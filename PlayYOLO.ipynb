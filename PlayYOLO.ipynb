{
 "cells": [
  {
   "cell_type": "code",
   "execution_count": 1,
   "metadata": {},
   "outputs": [],
   "source": [
    "import os, time\n",
    "import argparse\n",
    "import cv2\n",
    "import numpy as np"
   ]
  },
  {
   "cell_type": "code",
   "execution_count": 2,
   "metadata": {},
   "outputs": [],
   "source": [
    "modelType = \"yolo\"  #yolo or yolo-tiny\n",
    "confThreshold = 0.5  #Confidence threshold\n",
    "nmsThreshold = 0.4   #Non-maximum suppression threshold\n",
    "\n",
    "File_path = \"D:/darknet-master\"\n",
    "classesFile = File_path + \"/data/piano/obj.list\";\n",
    "modelConfiguration = File_path + \"/cfg/yolov3-tiny.cfg\";\n",
    "modelWeights = File_path + split +\"/data/piano/weights/yolov3-tiny.backup\";\n",
    "\n",
    "displayScreen = True  #Do you want to show the image on LCD?\n",
    "outputToFile = True   #output the predicted result to image or video file\n",
    "\n",
    "#Label & Box\n",
    "fontSize = 0.35\n",
    "fontBold = 1\n",
    "labelColor = (0,0,255)\n",
    "boxbold = 1\n",
    "boxColor = (255,255,255)"
   ]
  },
  {
   "cell_type": "code",
   "execution_count": 3,
   "metadata": {},
   "outputs": [],
   "source": [
    "if(modelType==\"yolo\"):\n",
    "    inpWidth = 608       #Width of network's input image\n",
    "    inpHeight = 608      #Height of network's input image\n",
    "else:\n",
    "    inpWidth = 416       #Width of network's input image\n",
    "    inpHeight = 416      #Height of network's input image\n",
    "\n",
    "\n",
    "classes = None\n",
    "with open(classesFile, 'rt') as f:\n",
    "    classes = f.read().rstrip('\\n').split('\\n')\n",
    " \n",
    "net = cv2.dnn.readNetFromDarknet(modelConfiguration, modelWeights)\n",
    "net.setPreferableBackend(cv2.dnn.DNN_BACKEND_OPENCV)\n",
    "net.setPreferableTarget(cv2.dnn.DNN_TARGET_CPU)"
   ]
  },
  {
   "cell_type": "code",
   "execution_count": 4,
   "metadata": {},
   "outputs": [],
   "source": [
    "def closest_colour(requested_colour):\n",
    "    min_colours = {}\n",
    "    for key, name in webcolors.css3_hex_to_names.items():\n",
    "        r_c, g_c, b_c = webcolors.hex_to_rgb(key)\n",
    "        rd = (r_c - requested_colour[0]) ** 2\n",
    "        gd = (g_c - requested_colour[1]) ** 2\n",
    "        bd = (b_c - requested_colour[2]) ** 2\n",
    "        min_colours[(rd + gd + bd)] = name\n",
    "    return min_colours[min(min_colours.keys())]\n",
    "\n",
    "def get_colour_name(requested_colour):\n",
    "    try:\n",
    "        closest_name = actual_name = webcolors.rgb_to_name(requested_colour)\n",
    "    except ValueError:\n",
    "        closest_name = closest_colour(requested_colour)\n",
    "        actual_name = None\n",
    "    return actual_name, closest_name\n",
    "\n",
    "def getROI_Color(roi):\n",
    "    mean_blue = np.mean(roi[:,:,0])\n",
    "    mean_green = np.mean(roi[:,:,1])\n",
    "    mean_red = np.mean(roi[:,:,2])\n",
    "    actual_name, closest_name = get_colour_name((mean_red, mean_green, mean_blue))\n",
    "\n",
    "    return actual_name, closest_name, (mean_blue, mean_green, mean_red)"
   ]
  },
  {
   "cell_type": "code",
   "execution_count": 5,
   "metadata": {},
   "outputs": [],
   "source": [
    "# Get the names of the output layers\n",
    "def getOutputsNames(net):\n",
    "    layersNames = net.getLayerNames()\n",
    "\n",
    "    return [layersNames[i[0] - 1] for i in net.getUnconnectedOutLayers()]\n",
    "\n",
    "def postprocess(frame, outs, orgFrame):\n",
    "    frameHeight = frame.shape[0]\n",
    "    frameWidth = frame.shape[1]\n",
    " \n",
    "    classIds = []\n",
    "    confidences = []\n",
    "    boxes = []\n",
    "    for out in outs:\n",
    "        for detection in out:\n",
    "            scores = detection[5:]\n",
    "            classId = np.argmax(scores)\n",
    "            confidence = scores[classId]\n",
    "            if confidence > confThreshold:\n",
    "                center_x = int(detection[0] * frameWidth)\n",
    "                center_y = int(detection[1] * frameHeight)\n",
    "                width = int(detection[2] * frameWidth)\n",
    "                height = int(detection[3] * frameHeight)\n",
    "                left = int(center_x - width / 2)\n",
    "                top = int(center_y - height / 2)\n",
    "                classIds.append(classId)\n",
    "                confidences.append(float(confidence))\n",
    "                boxes.append([left, top, width, height])\n",
    " \n",
    "    indices = cv2.dnn.NMSBoxes(boxes, confidences, confThreshold, nmsThreshold)\n",
    "    for i in indices:\n",
    "        i = i[0]\n",
    "        box = boxes[i]\n",
    "        left = box[0]\n",
    "        top = box[1]\n",
    "        width = box[2]\n",
    "        height = box[3]\n",
    "        drawPred(classIds[i], confidences[i], left, top, left + width, top + height, orgFrame)\n",
    "\n",
    "def drawPred(classId, conf, left, top, right, bottom, orgFrame):\n",
    "    label = '%.2f' % conf\n",
    "    labelName = '%s:%s' % (classes[classId], label)\n",
    "\n",
    "    cv2.rectangle(frame, (left, top), (right, bottom), boxColor, boxbold)\n",
    "    cv2.putText(frame, labelName, (left, top-10), cv2.FONT_HERSHEY_COMPLEX, fontSize, labelColor, fontBold)\n",
    "\n",
    "    print(labelName)\n",
    "\n",
    "\n"
   ]
  },
  {
   "cell_type": "code",
   "execution_count": 6,
   "metadata": {},
   "outputs": [
    {
     "name": "stderr",
     "output_type": "stream",
     "text": [
      "usage: ipykernel_launcher.py [-h] [-i IMAGE] [-v VIDEO]\n",
      "ipykernel_launcher.py: error: unrecognized arguments: -f C:\\Users\\b4a47\\AppData\\Roaming\\jupyter\\runtime\\kernel-e272e48f-ac6e-40af-a96b-271118a1f132.json\n"
     ]
    },
    {
     "ename": "SystemExit",
     "evalue": "2",
     "output_type": "error",
     "traceback": [
      "An exception has occurred, use %tb to see the full traceback.\n",
      "\u001b[1;31mSystemExit\u001b[0m\u001b[1;31m:\u001b[0m 2\n"
     ]
    },
    {
     "name": "stderr",
     "output_type": "stream",
     "text": [
      "C:\\Users\\b4a47\\AppData\\Roaming\\SPB_Data\\.conda\\envs\\tf-gpu\\lib\\site-packages\\IPython\\core\\interactiveshell.py:3304: UserWarning: To exit: use 'exit', 'quit', or Ctrl-D.\n",
      "  warn(\"To exit: use 'exit', 'quit', or Ctrl-D.\", stacklevel=1)\n"
     ]
    }
   ],
   "source": [
    "parser = argparse.ArgumentParser(description=\"Do you wish to scan for live hosts or conduct a port scan?\")\n",
    "parser.add_argument(\"-i\", dest='image', action='store', help='Image')\n",
    "parser.add_argument(\"-v\", dest='video', action='store', help='Video file')\n",
    "args = parser.parse_args()"
   ]
  },
  {
   "cell_type": "code",
   "execution_count": 6,
   "metadata": {},
   "outputs": [
    {
     "name": "stderr",
     "output_type": "stream",
     "text": [
      "usage: ipykernel_launcher.py [-h] [-i IMAGE] [-v VIDEO]\n",
      "ipykernel_launcher.py: error: unrecognized arguments: -f C:\\Users\\b4a47\\AppData\\Roaming\\jupyter\\runtime\\kernel-e272e48f-ac6e-40af-a96b-271118a1f132.json\n"
     ]
    },
    {
     "ename": "SystemExit",
     "evalue": "2",
     "output_type": "error",
     "traceback": [
      "An exception has occurred, use %tb to see the full traceback.\n",
      "\u001b[1;31mSystemExit\u001b[0m\u001b[1;31m:\u001b[0m 2\n"
     ]
    },
    {
     "name": "stderr",
     "output_type": "stream",
     "text": [
      "C:\\Users\\b4a47\\AppData\\Roaming\\SPB_Data\\.conda\\envs\\tf-gpu\\lib\\site-packages\\IPython\\core\\interactiveshell.py:3304: UserWarning: To exit: use 'exit', 'quit', or Ctrl-D.\n",
      "  warn(\"To exit: use 'exit', 'quit', or Ctrl-D.\", stacklevel=1)\n"
     ]
    }
   ],
   "source": [
    "if (args.image):\n",
    "    # Open the image file\n",
    "    if not os.path.isfile(args.image):\n",
    "        print(\"Input image file \", args.image, \" doesn't exist\")\n",
    "        sys.exit(1)\n",
    "    cap = cv2.VideoCapture(args.image)\n",
    "    outputFile = args.image[:-4]+'_yolo.jpg'\n",
    "\n",
    "elif (args.video):\n",
    "    # Open the video file\n",
    "    if not os.path.isfile(args.video):\n",
    "        print(\"Input video file \", args.video, \" doesn't exist\")\n",
    "        sys.exit(1)\n",
    "    cap = cv2.VideoCapture(args.video)\n",
    "    outputFile = args.video[:-4]+'_yolo.avi'\n",
    "    fourcc = cv2.VideoWriter_fourcc(*'MJPG')\n",
    "    out = cv2.VideoWriter(outputFile, fourcc, 30.0, (round(cap.get(cv2.CAP_PROP_FRAME_WIDTH)),round(cap.get(cv2.CAP_PROP_FRAME_HEIGHT))))\n",
    "\n",
    "else:\n",
    "    # Webcam input\n",
    "    cap = cv2.VideoCapture(0)\n",
    "\n",
    "i = 0\n",
    "while cv2.waitKey(1) < 0:\n",
    "    hasFrame, frame = cap.read()\n",
    "\n",
    "    i += 1 \n",
    "    if not hasFrame:\n",
    "        print(\"Done processing !!!\")\n",
    "        print(\"Output file is stored as \", outputFile)\n",
    "        cv2.waitKey(3000)\n",
    "        break\n",
    "\n",
    "    orgFrame = frame.copy()\n",
    "\n",
    "    blob = cv2.dnn.blobFromImage(frame, 1/255, (inpWidth, inpHeight), [0,0,0], 1, crop=False)\n",
    "    net.setInput(blob)\n",
    "    outs = net.forward(getOutputsNames(net))\n",
    "    postprocess(frame, outs, orgFrame)\n",
    "\n",
    "    t, _ = net.getPerfProfile()\n",
    "    #label = 'Inference time: %.2f ms' % (t * 1000.0 / cv.getTickFrequency())\n",
    "\n",
    "    if (args.image):\n",
    "\n",
    "        if(outputToFile):\n",
    "            cv2.imwrite(outputFile, frame.astype(np.uint8))\n",
    "\n",
    "        if(displayScreen):\n",
    "            cv2.imshow(\"Predicted\", frame)\n",
    "\n",
    "    else:\n",
    "        print(\"Frame #{} processed.\".format(i))\n",
    "\n",
    "        if(outputToFile):\n",
    "            out.write(frame)\n",
    "\n",
    "        if(displayScreen):\n",
    "            cv.imshow(\"frame\", frame)\n",
    "            cv.waitKey(1)"
   ]
  },
  {
   "cell_type": "code",
   "execution_count": null,
   "metadata": {},
   "outputs": [],
   "source": []
  }
 ],
 "metadata": {
  "kernelspec": {
   "display_name": "Python 3",
   "language": "python",
   "name": "python3"
  },
  "language_info": {
   "codemirror_mode": {
    "name": "ipython",
    "version": 3
   },
   "file_extension": ".py",
   "mimetype": "text/x-python",
   "name": "python",
   "nbconvert_exporter": "python",
   "pygments_lexer": "ipython3",
   "version": "3.6.8"
  }
 },
 "nbformat": 4,
 "nbformat_minor": 2
}
