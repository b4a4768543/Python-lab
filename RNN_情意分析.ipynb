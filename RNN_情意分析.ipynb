{
 "cells": [
  {
   "cell_type": "markdown",
   "metadata": {},
   "source": [
    "# 導入函式庫"
   ]
  },
  {
   "cell_type": "code",
   "execution_count": 1,
   "metadata": {},
   "outputs": [
    {
     "name": "stdout",
     "output_type": "stream",
     "text": [
      "env: KERAS_BACKEND=tensorflow\n"
     ]
    },
    {
     "name": "stderr",
     "output_type": "stream",
     "text": [
      "Using TensorFlow backend.\n"
     ]
    },
    {
     "name": "stdout",
     "output_type": "stream",
     "text": [
      "訓練資料總比數:25000\n",
      "測試資料總比數:25000\n"
     ]
    }
   ],
   "source": [
    "%env KERAS_BACKEND=tensorflow\n",
    "%matplotlib inline\n",
    "import numpy as np\n",
    "import pandas as pd\n",
    "import tensorflow as tf\n",
    "import matplotlib.pyplot as plt\n",
    "\n",
    "from keras.preprocessing import sequence\n",
    "from keras.models import Sequential\n",
    "from keras.layers import Dense, Embedding, Dropout\n",
    "from keras.layers import LSTM, Conv2D\n",
    "from keras.regularizers import l2\n",
    "from keras.callbacks import EarlyStopping\n",
    "\n",
    "from keras.datasets import imdb\n",
    "\n",
    "(x_train, y_train),(x_test, y_test) = imdb.load_data(num_words=10000)\n",
    "print(f'訓練資料總比數:{len(x_train)}')\n",
    "print(f'測試資料總比數:{len(x_test)}')"
   ]
  },
  {
   "cell_type": "markdown",
   "metadata": {},
   "source": [
    "# 資料前處理"
   ]
  },
  {
   "cell_type": "code",
   "execution_count": 2,
   "metadata": {},
   "outputs": [],
   "source": [
    "x_train = sequence.pad_sequences(x_train, maxlen=250)\n",
    "x_test = sequence.pad_sequences(x_test, maxlen=250)"
   ]
  },
  {
   "cell_type": "markdown",
   "metadata": {},
   "source": [
    "# Model"
   ]
  },
  {
   "cell_type": "code",
   "execution_count": 3,
   "metadata": {},
   "outputs": [],
   "source": [
    "N = 5\n",
    "K = 20"
   ]
  },
  {
   "cell_type": "code",
   "execution_count": 4,
   "metadata": {},
   "outputs": [],
   "source": [
    "early_stopping = EarlyStopping(monitor='val_loss', patience=1, verbose=1)"
   ]
  },
  {
   "cell_type": "code",
   "execution_count": 5,
   "metadata": {},
   "outputs": [
    {
     "name": "stdout",
     "output_type": "stream",
     "text": [
      "_________________________________________________________________\n",
      "Layer (type)                 Output Shape              Param #   \n",
      "=================================================================\n",
      "embedding_1 (Embedding)      (None, None, 5)           50000     \n",
      "_________________________________________________________________\n",
      "lstm_1 (LSTM)                (None, 20)                2080      \n",
      "_________________________________________________________________\n",
      "dropout_1 (Dropout)          (None, 20)                0         \n",
      "_________________________________________________________________\n",
      "dense_1 (Dense)              (None, 20)                420       \n",
      "_________________________________________________________________\n",
      "dense_2 (Dense)              (None, 1)                 21        \n",
      "=================================================================\n",
      "Total params: 52,521\n",
      "Trainable params: 52,521\n",
      "Non-trainable params: 0\n",
      "_________________________________________________________________\n"
     ]
    }
   ],
   "source": [
    "model = Sequential()\n",
    "model.add(Embedding(10000, N))\n",
    "model.add(LSTM(K))\n",
    "model.add(Dropout(0.5))\n",
    "model.add(Dense(20, activation='selu'))\n",
    "model.add(Dense(1, activation='sigmoid'))\n",
    "model.compile(loss='binary_crossentropy',optimizer='adam',metrics=['acc'])\n",
    "model.summary()"
   ]
  },
  {
   "cell_type": "code",
   "execution_count": 6,
   "metadata": {},
   "outputs": [
    {
     "name": "stdout",
     "output_type": "stream",
     "text": [
      "Train on 25000 samples, validate on 25000 samples\n",
      "Epoch 1/10\n",
      "25000/25000 [==============================] - 33s 1ms/step - loss: 0.6855 - acc: 0.5634 - val_loss: 0.6118 - val_acc: 0.7121\n",
      "Epoch 2/10\n",
      "25000/25000 [==============================] - 31s 1ms/step - loss: 0.4054 - acc: 0.8262 - val_loss: 0.3121 - val_acc: 0.8673\n",
      "Epoch 3/10\n",
      "25000/25000 [==============================] - 31s 1ms/step - loss: 0.2489 - acc: 0.9079 - val_loss: 0.2910 - val_acc: 0.8778\n",
      "Epoch 4/10\n",
      "25000/25000 [==============================] - 31s 1ms/step - loss: 0.1928 - acc: 0.9327 - val_loss: 0.2935 - val_acc: 0.8802\n",
      "Epoch 00004: early stopping\n"
     ]
    }
   ],
   "source": [
    "Model = model.fit(x_train, y_train, batch_size=400, epochs=10, validation_data = (x_test,y_test), callbacks=[early_stopping])"
   ]
  },
  {
   "cell_type": "code",
   "execution_count": 7,
   "metadata": {},
   "outputs": [
    {
     "name": "stdout",
     "output_type": "stream",
     "text": [
      "25000/25000 [==============================] - 7s 265us/step\n",
      "25000/25000 [==============================] - 7s 281us/step\n",
      "train_loss: 0.15132626605033875 train_accuracy: 0.9525599884986877\n",
      "test_loss: 0.2934841923713684 test_accuracy: 0.8801599984169006\n"
     ]
    }
   ],
   "source": [
    "score_train = model.evaluate(x_train, y_train, batch_size=400)\n",
    "score_test = model.evaluate(x_test, y_test, batch_size=400)\n",
    "print('train_loss:',score_train[0],'train_accuracy:',score_train[1] )\n",
    "print('test_loss:',score_test[0],'test_accuracy:',score_test[1] )"
   ]
  },
  {
   "cell_type": "code",
   "execution_count": 8,
   "metadata": {},
   "outputs": [
    {
     "data": {
      "image/png": "[encoded data removed]",
      "text/plain": [
       "<Figure size 432x288 with 1 Axes>"
      ]
     },
     "metadata": {
      "needs_background": "light"
     },
     "output_type": "display_data"
    }
   ],
   "source": [
    "plt.plot(Model.history['acc'])\n",
    "plt.plot(Model.history['val_acc'])\n",
    "plt.title('model training accurancy')\n",
    "plt.xlabel('epoch')\n",
    "plt.ylabel('accurancy')\n",
    "plt.legend(['train_acc','val_acc'],loc='best')\n",
    "plt.grid()\n",
    "plt.show()"
   ]
  },
  {
   "cell_type": "code",
   "execution_count": null,
   "metadata": {},
   "outputs": [],
   "source": []
  }
 ],
 "metadata": {
  "kernelspec": {
   "display_name": "Python 3",
   "language": "python",
   "name": "python3"
  },
  "language_info": {
   "codemirror_mode": {
    "name": "ipython",
    "version": 3
   },
   "file_extension": ".py",
   "mimetype": "text/x-python",
   "name": "python",
   "nbconvert_exporter": "python",
   "pygments_lexer": "ipython3",
   "version": "3.6.8"
  }
 },
 "nbformat": 4,
 "nbformat_minor": 2
}
