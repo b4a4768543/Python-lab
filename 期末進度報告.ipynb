{
 "cells": [
  {
   "cell_type": "markdown",
   "metadata": {},
   "source": [
    "# 題目名稱：輔助電腦視覺判斷鋼琴演奏"
   ]
  },
  {
   "cell_type": "markdown",
   "metadata": {},
   "source": [
    "#### 組員：\n",
    "● R07522616 黃俊琪                                                   \n",
    "● R07522630 賴雅晴"
   ]
  },
  {
   "cell_type": "markdown",
   "metadata": {},
   "source": [
    "#### 題目簡介：\n",
    "一般來說，如果僅僅使用電腦視覺判斷鋼琴演奏，只有辦法判斷當下演奏了哪個音，                   \n",
    "沒辦法分辨是左手或是右手所彈奏的，就算加入了尋找手部特徵的方法，結果也並不穩定，                    \n",
    "但如果加入NN等影像辨識方法，則可以大幅提高穩定度，達到辨認左右手所彈的音為何。                       \n",
    "且在尋找琴鍵的部分，也可以透過NN的篩選後，直接針對邊界部分做尋邊，避免對整張圖大海撈針，加入一堆限制條件才可鎖定。  \n",
    "且在錄影過程中，攝影機可能會因為鋼琴的音波而有些微的晃動，導致偏離的原本的位置，所以NN可以及時更新資訊。"
   ]
  },
  {
   "attachments": {},
   "cell_type": "markdown",
   "metadata": {},
   "source": [
    "------------------------------------------------------------------------------------------------\n",
    "# 資料集：\n",
    "從Youtube找到從鋼琴「正上方」拍攝的影片，並自己加上標籤，使用LabelImg軟體。\n",
    "#####  https://github.com/tzutalin/labelImg\n",
    "##### ![](https://lh3.googleusercontent.com/Ft0HPFvSshx1pjpHK9AfQnxMR3GWXMYyEARrfJkfMNjAZrQ9cggpzxXmJksVqBB22TKpm5z0PGtQJJ8DJ_DdVIxl0M1bDdmeYWeCCGYGZ8SbIYeEcFE22PJmFsW2MhkxoD1zStlgFcWajZ27Ui6yGNjCzTv9aWP-HEpkqS_yxT1IKFfk6yTezQq0hMSSRc5umOKxsOVl_cMXzHG1WkNjZPkaFl0HC1JcYKF8eRQI3VwuOMTuGElPY-QwQr5VR5bcHPt2w5tpMa4iS4QMSAgFfYa-NnB0QlNdpSglV0IrypVRxFHOSvVLHSHOBNdlS8uPUmmDaH8sAaNUl7uDkz2tqwwEjC9o9kghq_5Kx9XTR7QJowgPrx79gc0_WiEuWvw1-7XX4eCTYWJcrf4ZArOmmgKNrTE6I3EQ6NiAn2vys4I_iRD0Q3rXU0u17bYtodX9baIiQa1Ga_zMmeb_ADCLqYGylpJF0D8si734JV9AZzf6mqYxD_4QuGZY3OmQYsKz96OwVierzlY4aRv0i86F9JG-01QirmmIvxx4MAanrZgW28dVzFZVQqxQSTViNixhQtttSe8obdNyK4BfXk1SbfgG-k0PhlWY4ug2Dtn2mM_zAgqPTxal1AZpXE14bDOAv5XphG59uLwJxyP33dzMC7xTnnvQPg=w1638-h888-no)\n",
    "\n",
    "#### Input：這裡我加入4個類別，琴鍵的左、右邊界及左、右手，所以輸入是這四個類別的座標。\n",
    "#### Output：是這四張圖的類別、機率及座標。"
   ]
  },
  {
   "attachments": {},
   "cell_type": "markdown",
   "metadata": {},
   "source": [
    "------------------------------------------------------------------------------------------------\n",
    "\n",
    "# 結果處理：\n",
    " ●左、右手類別：是判斷出當前彈了什麼音後，將音分別紀錄給左右手。                         \n",
    " ●左、右邊界類別：是用來將影像中琴鍵的部分擷取出來，透過CNN的篩選後，可以直接針對邊界部分做尋邊，避免對整張圖大海撈針，加入一堆限制條件。\n",
    " \n",
    "\n",
    "##### <左邊界 > ![left.jpg](https://lh3.googleusercontent.com/hmg5IonUz2CidKb-aSzSMUqDtS9nU7b-9GJJVLJCzlOhIXbP3-A5iQ0r877BTN3DEyVPmb14vMfVmHlXKUPRYnW262Am00ZdVjjBv0VV1ox3t-ydW21uiN-J6UwFKrp2deTzIx-aTqWEdh9tHBUuKOcZGsyWQRuUt4xZ5zTRQnGMkJSmdW_sHp8BrSCghOVbdd3fW0V2EQ6ImTENGud8r_MpH8_XuO7YkItAWESh_Tp3S6VzVYHhYJYCDHpVO83IkeNhQ7-_nG-IuIZuyPKekbBJfHIFYCmK6-k4BRE2a1vcZrqc14wgXyTE0IFcrzvh7xKIXaVCAKHF2Uh25ime2PpbENz18rg6lxiUyFPpkT4mjPtgfzBiY1zX4lt8fPNvtbLUC61Gywm94Wu6huD1ygfka8-9ZQ58ey-kEPOJhHKVDzKMWpzA_uJ4Y459yhuE_fTxXiclMTAFYPK-zGMSmBxrWqSSm2h_XN6ToOA9sAJADm7yw3QZ2Q6MBvTJQhBk28vGcJn8TNW1qV05vy3JRVMMP9kl1UqkFi2HiSWCJZVoPKSPS0hM8CHhZIDAcn5aaeQDB6UEEm57P84rtcXPfyPNQQXCB26MuZNlAdcfLo0vab8eGNzNZztd3Aald-pLZk8nar9vjwShqTZKZkR8AfE6RtuzKQ=w38-h109-no)\n",
    "##### <右邊界> ![right.jpg](https://lh3.googleusercontent.com/RFGMA_GJ_zMqUlhXa6LcXXPTHjgakGKAOgZXzBLisA0zFRoTNfFxKtRJxUepuapQsNErHghqApxwnIFd6fsZWUsfsA0a9ecqfd27WFnJ6NuEh2iXOr3334vTjdW6-qCCuu5RaXXQOY6spw3Kv_ZfDt6Knolp3PQ_MIgpI-g5hXqExrqEz5ggADvjvTCxz_K0ALa5_rIwHrIZygt-RbGPpm2uWOygR17ry8QYaJXBFeZYk-U5yYaRNuYkPwtfQwhetV8ExHVxKtL3Ec4VRgSsmVQdWZiafeAYAFc76Nf4Xc6vKOJC3FarIRN-Doyn-HFJojBHXeUsJSOiXGBFw2nt8cktieX-Gs4rkly45kEneedcC9ejmxKe0aONZZRS0yINQQftFwl3hcgBf9xHref_FDNC-o4ChHeg0Nq2_aRVXTdWo6CjZHuncLdjnkm8NhERmbyI1_EmSWyqXJMbD6H6Jol_Hx6D5Wfa2WZwNyN5QdxGkhETFlDh75XMLZkwAMH-i3YR62fRr_tdPPIcjHQulT5nAIBcrv1MG9UaRPu_ey7rLWrx1nkmLJZoaxbNEFLy4T1Xg2HRrBlTa1XijmACjlSH0mVcEr_jQjtScYBcIa3Zazoij6C5F65dTlQFwp1DlYLMA0jN5_huKdeItxl8ABFNOIR2Zw=w48-h128-no)\n",
    "\n",
    "\n",
    "\n",
    "\n",
    " ●鎖定邊界後，就可以對整張圖做投影，把琴鍵的部分拉直，並將琴鍵部分擷取出來做計算。\n",
    "##### <原圖> ![image_6101.jpg](https://lh3.googleusercontent.com/XUolEyjsQ6NL_cmlscIYi8y5jSQvhH6YmA9pxiI7Cz3aKTCaxshQ_FUbshPFRUVcAT4JuLjDId8DNAl4A-9EBM1xtxE64YPa-_t2wwNHkCOpIDPZlj2CXsPAf5u2k-CWffr4fLOHLDcjhtC8WIy8PQIpzDpcb2S95MeftNpABcOo0iq_3q6FhcLbESYXsS6pDiVAuT9jbrd5Re2lbu6tAy6xrhxBtNBj9UW3aHgEVrViB8NUZSZUC6vzqZnmoeQXFCUyKZxLJpt769tbiqSpVA1PiDT0b1c-yxRhHhqBpYNr3L4TYdk0p7iiqRJdELRgSPkfm3ReJtcbliRxhRdSbgz65QqIXgvCL4KrO1kxzTW5r7mbZAqpG8LuRArWvQy8pwil0zV2sYi2rmywxLZ8SllGydR0T9AxYAYAJxDXXb9o0gVP22dU6IChuxPNkTYmkhwKqs0bnMmryvr4rjUzyOXez_M400t5XfmPtyHmqwX1tW5514lt1uO-H-YVbYmPPSgDhXPg30C9OUK0TorI6ffvXT5YPiOl7I3llE4tgGHjyiAabYhYzneiPzA8injPhRhX_Dw9lN_TFd4NxAAbC6h5rgi5Lu98IJ6AhCnfc9XP8ZIo4z64Gn6fuca9OkND7ZqcFsYkrFoV0uzGDGiXGp8veCaiYA=w854-h480-no)\n",
    "##### <投影圖>![2.png](https://lh3.googleusercontent.com/hpgXR67nI_4QqbJEMXDvjXxhzI7MQHSA-A2BuA3cT3GqhcIDYjLV__2wyn6wzVWZ_DCQu-YNmJDepoWiRuaqkG99EDhCffAtVMHtwQ9W0zBWjhJv85xy4HOFJwiwpcWzmYNgcn_YnOHpmCyq8ZbOUTGFcy8Ck5LZ-cC0w0auJhA3khUKu8WskKFWi6yahrYGP5R12sABC3d-iV88ZwM6OTcaeXvz_AvmwdE0phzwxeGjHP1NMJOeheP25MNuPsCtNDKNguqRIUC6bppcboQJESFDl1EN_GO-x1xpj6wfqFC83vSdmYsE57G2T3pbPZAFZ4DZsY257RtjJ1sdwaXNnzAfcR_IPpMevAT9MqotUgwmt8HZ4zUdNDq6_s49iWvrPKhi4cGSvqmCvKJuJLW9dRCGQgF1tNQ82hRX2GfxmlIll4KUR5kMTMIPXUSWls6OXbv6u4QCMQFWPLcdbDcdS1AQ4NiFJmIq-cJELq9u1ZE_qM-pW0EiXqDbqzbdA3jwrt6oiuvyYFJNndVhUfypextRzgW03PQi277VoOqWo1YyOO7fgLfS8ImhDJ5sg_84ypAZBZPrR8rWPXS8sdQvAyF5z-hukSLSM5onytFpQwgBrf0nAnTv5lVsCDcjCk0v_xm5xjA8SHWMzNPc3O7uPPXeESIXUQ=w854-h480-no)\n",
    "##### <琴鍵部分擷取> ![4.png](https://lh3.googleusercontent.com/1lViXrDpXNz9uk64I-Menl47ujxZFgmB_a308E512xdaKYjkswCbIYFzYD8M9kif20GeYAbufYoJoIDbIzu7xGTCF3LFRKs0iEG2YY2aTwl2EMljuQWg5nY6tsQUxvoVKvhn3blQHrT1bhzdUs_uM9uBj3UJ9i3N58epIQOksyigFu3EyW5LtnIJ-0CyRhgPPyppElzk-7xyE_vdiKG8gWyUi73D3JlDGWJvrOnh06NaNqL-uo7b3FK4w9gdxKbr0a20uaiYVN8zdssVjxFgJWUGUmcF_ARr3-RFW_uAbwVzkIQGjksRQSHGV5E7utLyK9pwE0qxOeRdY6s_GFjgbmPFMsilSI29ppPcxCNmJzAL6b21AvI9IZzQjsQ8VNOmVQWPAW3akfCwPrJGDR6JPQH3i_wpnvauXcnaIXAOw-hVa_3WYUpnKRCGp_LNfaJhftN45oOYjVqOIIMFGxy6MZlbj4uBA2zrmanbNDS5dA-LL3yRT9XBlskMywtTSEm01V4-19Fs4g_og4SjjUWIB8W00uC4LCrobnJaV6At99Yx_9ga58n8qfWxaOSZ0FYZ94qu6WNJbLHypHga09YtJ8zsUelEQEiSTWDDTNMKnlRDb4ob-N5iPqEQifF9aCigS24gcAKHunzy4QKLxNoqurPJrpnguw=w616-h100-no)\n",
    "\n",
    " ●之後將前後兩偵的差值影像做一系列處理取得琴鍵變化量，以此判斷哪個音被彈奏。"
   ]
  },
  {
   "cell_type": "markdown",
   "metadata": {},
   "source": [
    "------------------------------------------------------------------------------------------------\n",
    "# 遭遇難題：\n",
    "因為是自己手動標標籤的，所以希望可以使用「最少的DATA」來達到「最好的效果」，                  \n",
    "我們一開始是基於YOLO的單純CNN架構來做訓練，但訓練出來的結果非常的差，                   \n",
    "因為YOLO是透過將影像resize到各種大小後，使用相同大小的kernal來判別物體，                         \n",
    "而人的手會有多種細微動作，在少量的DATA下，幾乎無法辨識出來，YOLO應該是比較適用於判別「大物體」的方法。                                                                                                                                                                        \n",
    "因此參考網路上對影像辨識的方法，我決定改成採用FRCNN(Fast R-CNN)來做基礎進行影像辨識，希望能夠改善結果。"
   ]
  },
  {
   "cell_type": "markdown",
   "metadata": {},
   "source": [
    "------------------------------------------------------------------------------------------------\n",
    "# 進度規劃\n",
    "● Now ~ 5/24 資料前處理以完畢，原本採用YOLO訓練，效果不佳。改成採用FRCNN架構嘗試。                 \n",
    "● 5/24 ~ 5/31 訓練模型並進行調整，以及後端影像處理。                                \n",
    "● 5/31 ~ 6/2 改善模型並統整專案所遇到問題及解決方式。                              \n",
    "● 6/2 ~ 6/5 撰寫期末專案所需文稿。                          "
   ]
  },
  {
   "cell_type": "markdown",
   "metadata": {},
   "source": [
    "------------------------------------------------------------------------------------------------\n",
    "# 目前進度：\n",
    "    FRCNN架構模型訓練中......"
   ]
  }
 ],
 "metadata": {
  "kernelspec": {
   "display_name": "Python 3",
   "language": "python",
   "name": "python3"
  },
  "language_info": {
   "codemirror_mode": {
    "name": "ipython",
    "version": 3
   },
   "file_extension": ".py",
   "mimetype": "text/x-python",
   "name": "python",
   "nbconvert_exporter": "python",
   "pygments_lexer": "ipython3",
   "version": "3.6.8"
  }
 },
 "nbformat": 4,
 "nbformat_minor": 2
}
