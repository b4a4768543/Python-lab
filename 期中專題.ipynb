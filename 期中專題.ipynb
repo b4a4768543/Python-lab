{
 "cells": [
  {
   "cell_type": "markdown",
   "metadata": {},
   "source": [
    "# 導入函式庫"
   ]
  },
  {
   "cell_type": "code",
   "execution_count": 1,
   "metadata": {},
   "outputs": [],
   "source": [
    "%matplotlib inline\n",
    "import numpy as np\n",
    "import pandas as pd\n",
    "import matplotlib.pyplot as plt\n",
    "import matplotlib as mpl\n",
    "from ipywidgets import interact_manual"
   ]
  },
  {
   "cell_type": "markdown",
   "metadata": {},
   "source": [
    "# 設置變數"
   ]
  },
  {
   "cell_type": "code",
   "execution_count": 2,
   "metadata": {},
   "outputs": [],
   "source": [
    "global Card_sea\n",
    "global Total\n",
    "global Player_card\n",
    "global Computer_card\n",
    "global rank\n",
    "global game_over\n",
    "global player_win\n",
    "global computer_win"
   ]
  },
  {
   "cell_type": "markdown",
   "metadata": {},
   "source": [
    "# 函式"
   ]
  },
  {
   "cell_type": "markdown",
   "metadata": {},
   "source": [
    "### 牌池初始化"
   ]
  },
  {
   "cell_type": "code",
   "execution_count": 3,
   "metadata": {},
   "outputs": [],
   "source": [
    "def Initial_card():\n",
    "    global Card_sea\n",
    "    global Total\n",
    "    global Player_card\n",
    "    global Computer_card\n",
    "    global rank\n",
    "    global game_over\n",
    "    global player_win\n",
    "    global computer_win\n",
    "    \n",
    "    Player_card = list()\n",
    "    Computer_card = list()\n",
    "    game_over = False\n",
    "    player_win = False\n",
    "    computer_win = False\n",
    "    \n",
    "#     Initialize 卡池\n",
    "    Card_sea = np.full([13],4)\n",
    "    Total = 0\n",
    "    \n",
    "#     發玩家的牌\n",
    "    deal(Player_card)\n",
    "#     發電腦的牌\n",
    "    deal(Computer_card)"
   ]
  },
  {
   "cell_type": "markdown",
   "metadata": {},
   "source": [
    "### 發牌"
   ]
  },
  {
   "cell_type": "code",
   "execution_count": 4,
   "metadata": {},
   "outputs": [],
   "source": [
    "def deal(x):\n",
    "    global Card_sea\n",
    "    global Total\n",
    "    global Player_card\n",
    "    global Computer_card\n",
    "    while len(x) < 5:\n",
    "        i = np.random.randint(1,14)\n",
    "        if Card_sea[i-1] > 0:\n",
    "            x.append(i)\n",
    "            Card_sea[i-1] -= 1\n",
    "            \n",
    "            count = 0\n",
    "            for i in Card_sea:\n",
    "                if i == 0:\n",
    "                    count += 1\n",
    "            if count == 13:\n",
    "                Card_sea = np.full([13],4)\n",
    "                for i in Player_card:\n",
    "                    Card_sea[i-1] -= 1\n",
    "                for i in Computer_card:\n",
    "                    Card_sea[i-1] -= 1   \n",
    "                break"
   ]
  },
  {
   "cell_type": "markdown",
   "metadata": {},
   "source": [
    "### 電腦出牌策略"
   ]
  },
  {
   "cell_type": "code",
   "execution_count": 5,
   "metadata": {},
   "outputs": [],
   "source": [
    "def Computer_playing():\n",
    "    global Card_sea\n",
    "    global Total\n",
    "    global Player_card\n",
    "    global Computer_card\n",
    "    global rank\n",
    "    \n",
    "    rank = list()\n",
    "    for i in range(0,5):\n",
    "        if((Computer_card[i] != 4) & (Computer_card[i] != 5) & (Computer_card[i] != 10) & (Computer_card[i] != 11) & (Computer_card[i] != 12) & (Computer_card[i] != 13) ):\n",
    "            rank.append(Computer_card[i]+30)\n",
    "        else:\n",
    "            rank.append(Computer_card[i])\n",
    "    \n",
    "    index = 0\n",
    "    tmp_list = list()\n",
    "    tmp_list = rank.copy()\n",
    "    tmp_list.sort(reverse = True)\n",
    "    \n",
    "    for i in range(0,5):\n",
    "        if tmp_list[i] > 30:\n",
    "            if (Computer_card[rank.index(tmp_list[i])] + Total) <= 99:\n",
    "                index = rank.index(tmp_list[i])\n",
    "                break\n",
    "            elif i == 4:\n",
    "                index = rank.index(tmp_list[i])\n",
    "                break\n",
    "        else:\n",
    "            index = rank.index(tmp_list[i])\n",
    "            break\n",
    "    return index"
   ]
  },
  {
   "cell_type": "markdown",
   "metadata": {},
   "source": [
    "### 遊戲執行"
   ]
  },
  {
   "cell_type": "code",
   "execution_count": 6,
   "metadata": {},
   "outputs": [],
   "source": [
    "def Acting(x,plus_or_not):\n",
    "    global Card_sea\n",
    "    global Total\n",
    "    global Player_card\n",
    "    global Computer_card\n",
    "    global game_over\n",
    "    global player_win\n",
    "    global computer_win\n",
    "\n",
    "    player_num = 0\n",
    "    computer_num = 0\n",
    "    \n",
    "    print (\"原卡池數字： \", Total)\n",
    "    if game_over == False:\n",
    "        # 玩家出牌\n",
    "        if Player_card[x-1] == 13:\n",
    "            player_num = 13\n",
    "            Total = 99;\n",
    "        elif Player_card[x-1] == 12:\n",
    "            if plus_or_not == \"+\":\n",
    "                player_num = 20\n",
    "                Total += 20\n",
    "            else:\n",
    "                player_num = -20\n",
    "                Total -= 20\n",
    "        elif Player_card[x-1] == 10:\n",
    "            if plus_or_not == \"+\":\n",
    "                player_num = 10\n",
    "                Total += 10\n",
    "            else:\n",
    "                player_num = -10\n",
    "                Total -= 10\n",
    "        elif ((Player_card[x-1] == 4)|(Player_card[x-1] == 5)|(Player_card[x-1] == 11)):\n",
    "            player_num = Player_card[x-1]\n",
    "            Total = Total\n",
    "        else:\n",
    "            player_num = Player_card[x-1]\n",
    "            Total += Player_card[x-1]\n",
    "        del Player_card[x-1]\n",
    "        #  發玩家的牌\n",
    "        deal(Player_card)\n",
    "            \n",
    "        if Total > 99:\n",
    "            computer_win = True\n",
    "            game_over = True\n",
    "            \n",
    "        # 電腦出牌\n",
    "        else:\n",
    "            index = Computer_playing()\n",
    "            # 選牌\n",
    "            if(rank[index] > 30):\n",
    "                computer_num = Computer_card[index]\n",
    "                Total += Computer_card[index]\n",
    "                del Computer_card[index]\n",
    "            else:\n",
    "                if Computer_card[index] == 13:\n",
    "                    computer_num = 13\n",
    "                    Total = 99;\n",
    "                elif Computer_card[index] == 12:\n",
    "                    if Total + 20 <= 99:\n",
    "                        computer_num = 20\n",
    "                        Total += 20\n",
    "                    else:\n",
    "                        computer_num = -20\n",
    "                        Total -= 20\n",
    "                elif Computer_card[index] == 10:\n",
    "                    if Total + 10 <= 99:\n",
    "                        computer_num = 10\n",
    "                        Total += 10\n",
    "                    else:\n",
    "                        computer_num = -10\n",
    "                        Total -= 10\n",
    "                else:\n",
    "                    computer_num =  Computer_card[index]\n",
    "                \n",
    "                del Computer_card[index]\n",
    "                \n",
    "            deal(Computer_card)    \n",
    "            \n",
    "            # 結果\n",
    "            if Total > 99:\n",
    "                player_win = True\n",
    "                game_over = True      \n",
    "            \n",
    "    \n",
    "    print (\"新卡池數字： \", Total)\n",
    "    if player_num != 0 :\n",
    "        print (\"-------------------------\") \n",
    "        print (\"你出了： \", player_num) \n",
    "        print (\"電腦出了： \", computer_num) \n",
    "        print (\"-------------------------\") \n",
    "        \n",
    "    if (player_win == False)&(computer_win == False):\n",
    "        \n",
    "        print (\"手牌：\" , Player_card[0],\" \",Player_card[1],\" \",Player_card[2],\" \",Player_card[3],\" \",Player_card[4])\n",
    "    elif player_win == True:\n",
    "        print(\"你贏了!!\")\n",
    "    else :\n",
    "        print(\"你輸了!!\")"
   ]
  },
  {
   "cell_type": "markdown",
   "metadata": {},
   "source": [
    "### 重新開始"
   ]
  },
  {
   "cell_type": "code",
   "execution_count": 7,
   "metadata": {},
   "outputs": [],
   "source": [
    "def Start():\n",
    "    Initial_card()\n",
    "    print (\"起手牌：\" , Player_card[0],\" \",Player_card[1],\" \",Player_card[2],\" \",Player_card[3],\" \",Player_card[4])\n",
    "    print (\"----------------------------------------\")\n",
    "    interact_manual(Acting, x = (1,5) , plus_or_not = {\"-\",\"+\"})"
   ]
  },
  {
   "cell_type": "markdown",
   "metadata": {},
   "source": [
    "# 開始遊戲"
   ]
  },
  {
   "cell_type": "code",
   "execution_count": 8,
   "metadata": {},
   "outputs": [
    {
     "data": {
      "application/vnd.jupyter.widget-view+json": {
       "model_id": "e5f6006857ed433480386447cacec9cc",
       "version_major": 2,
       "version_minor": 0
      },
      "text/plain": [
       "interactive(children=(Button(description='Run Interact', style=ButtonStyle()), Output()), _dom_classes=('widge…"
      ]
     },
     "metadata": {},
     "output_type": "display_data"
    },
    {
     "data": {
      "text/plain": [
       "<function __main__.Start()>"
      ]
     },
     "execution_count": 8,
     "metadata": {},
     "output_type": "execute_result"
    }
   ],
   "source": [
    "interact_manual(Start)"
   ]
  },
  {
   "cell_type": "code",
   "execution_count": null,
   "metadata": {},
   "outputs": [],
   "source": []
  }
 ],
 "metadata": {
  "kernelspec": {
   "display_name": "Python 3",
   "language": "python",
   "name": "python3"
  },
  "language_info": {
   "codemirror_mode": {
    "name": "ipython",
    "version": 3
   },
   "file_extension": ".py",
   "mimetype": "text/x-python",
   "name": "python",
   "nbconvert_exporter": "python",
   "pygments_lexer": "ipython3",
   "version": "3.7.1"
  }
 },
 "nbformat": 4,
 "nbformat_minor": 2
}
