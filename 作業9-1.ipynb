{
 "cells": [
  {
   "cell_type": "markdown",
   "metadata": {},
   "source": [
    "# 讀取資料庫"
   ]
  },
  {
   "cell_type": "code",
   "execution_count": 1,
   "metadata": {},
   "outputs": [
    {
     "name": "stdout",
     "output_type": "stream",
     "text": [
      "env: KERAS_BACKEND=tensorflow\n"
     ]
    }
   ],
   "source": [
    "%env KERAS_BACKEND = tensorflow\n",
    "%matplotlib inline"
   ]
  },
  {
   "cell_type": "code",
   "execution_count": 2,
   "metadata": {},
   "outputs": [
    {
     "name": "stderr",
     "output_type": "stream",
     "text": [
      "Using TensorFlow backend.\n"
     ]
    }
   ],
   "source": [
    "import numpy as np\n",
    "import matplotlib.pyplot as plt\n",
    "import pandas as pd\n",
    "\n",
    "from keras.models import Sequential\n",
    "from keras.layers import Dense, Activation, Add, MaxPool2D , Conv2D \n",
    "from keras.layers.core import Flatten\n",
    "from keras.optimizers import adam\n",
    "\n",
    "from keras.utils import np_utils\n",
    "\n",
    "from keras.datasets import mnist"
   ]
  },
  {
   "cell_type": "markdown",
   "metadata": {},
   "source": [
    "# 資料前處理"
   ]
  },
  {
   "cell_type": "code",
   "execution_count": 3,
   "metadata": {},
   "outputs": [],
   "source": [
    "(x_train,y_train),(x_test,y_test) = mnist.load_data()"
   ]
  },
  {
   "cell_type": "code",
   "execution_count": 4,
   "metadata": {},
   "outputs": [],
   "source": [
    "x_train = x_train.reshape(60000,28,28,1)\n",
    "x_test = x_test.reshape(10000,28,28,1)\n",
    "\n",
    "y_train = np_utils.to_categorical(y_train,10)\n",
    "y_test = np_utils.to_categorical(y_test,10)"
   ]
  },
  {
   "cell_type": "markdown",
   "metadata": {},
   "source": [
    "# 架設神經網路"
   ]
  },
  {
   "cell_type": "code",
   "execution_count": 5,
   "metadata": {},
   "outputs": [],
   "source": [
    "model = Sequential()\n",
    "# Convolution Layer\n",
    "## layer1\n",
    "model.add(Conv2D(8,(3,3), padding='same',input_shape = (28,28,1)))\n",
    "model.add(Activation('relu'))\n",
    "model.add(MaxPool2D(pool_size = (2,2)))\n",
    "## layer2\n",
    "model.add(Conv2D(16,(5,5),padding = 'same'))\n",
    "model.add(Activation('relu'))\n",
    "model.add(MaxPool2D(pool_size = (2,2)))\n",
    "## layer3\n",
    "model.add(Conv2D(32,(7,7),padding = 'same'))\n",
    "model.add(Activation('sigmoid'))\n",
    "model.add(MaxPool2D(pool_size = (2,2)))\n",
    "\n",
    "# Flatten Layer\n",
    "model.add(Flatten())\n",
    "\n",
    "# Fully Connected Layer\n",
    "## layer1\n",
    "model.add(Dense(10,activation = 'relu'))\n",
    "## layer2\n",
    "model.add(Dense(10,activation = 'softmax'))"
   ]
  },
  {
   "cell_type": "code",
   "execution_count": 6,
   "metadata": {},
   "outputs": [
    {
     "name": "stdout",
     "output_type": "stream",
     "text": [
      "_________________________________________________________________\n",
      "Layer (type)                 Output Shape              Param #   \n",
      "=================================================================\n",
      "conv2d_1 (Conv2D)            (None, 28, 28, 8)         80        \n",
      "_________________________________________________________________\n",
      "activation_1 (Activation)    (None, 28, 28, 8)         0         \n",
      "_________________________________________________________________\n",
      "max_pooling2d_1 (MaxPooling2 (None, 14, 14, 8)         0         \n",
      "_________________________________________________________________\n",
      "conv2d_2 (Conv2D)            (None, 14, 14, 16)        3216      \n",
      "_________________________________________________________________\n",
      "activation_2 (Activation)    (None, 14, 14, 16)        0         \n",
      "_________________________________________________________________\n",
      "max_pooling2d_2 (MaxPooling2 (None, 7, 7, 16)          0         \n",
      "_________________________________________________________________\n",
      "conv2d_3 (Conv2D)            (None, 7, 7, 32)          25120     \n",
      "_________________________________________________________________\n",
      "activation_3 (Activation)    (None, 7, 7, 32)          0         \n",
      "_________________________________________________________________\n",
      "max_pooling2d_3 (MaxPooling2 (None, 3, 3, 32)          0         \n",
      "_________________________________________________________________\n",
      "flatten_1 (Flatten)          (None, 288)               0         \n",
      "_________________________________________________________________\n",
      "dense_1 (Dense)              (None, 10)                2890      \n",
      "_________________________________________________________________\n",
      "dense_2 (Dense)              (None, 10)                110       \n",
      "=================================================================\n",
      "Total params: 31,416\n",
      "Trainable params: 31,416\n",
      "Non-trainable params: 0\n",
      "_________________________________________________________________\n"
     ]
    }
   ],
   "source": [
    "model.summary()"
   ]
  },
  {
   "cell_type": "code",
   "execution_count": 7,
   "metadata": {},
   "outputs": [],
   "source": [
    "model.compile(loss = 'mse', optimizer=\"adam\",metrics = ['accuracy'])"
   ]
  },
  {
   "cell_type": "markdown",
   "metadata": {},
   "source": [
    "# 開始訓練"
   ]
  },
  {
   "cell_type": "code",
   "execution_count": 8,
   "metadata": {},
   "outputs": [
    {
     "name": "stdout",
     "output_type": "stream",
     "text": [
      "Epoch 1/10\n",
      "60000/60000 [==============================] - 41s 688us/step - loss: 0.0396 - acc: 0.7241\n",
      "Epoch 2/10\n",
      "60000/60000 [==============================] - 43s 709us/step - loss: 0.0066 - acc: 0.9633\n",
      "Epoch 3/10\n",
      "60000/60000 [==============================] - 46s 770us/step - loss: 0.0042 - acc: 0.9757\n",
      "Epoch 4/10\n",
      "60000/60000 [==============================] - 49s 822us/step - loss: 0.0033 - acc: 0.9810\n",
      "Epoch 5/10\n",
      "60000/60000 [==============================] - 50s 840us/step - loss: 0.0028 - acc: 0.9835\n",
      "Epoch 6/10\n",
      "60000/60000 [==============================] - 50s 837us/step - loss: 0.0025 - acc: 0.9850\n",
      "Epoch 7/10\n",
      "60000/60000 [==============================] - 52s 864us/step - loss: 0.0022 - acc: 0.9868\n",
      "Epoch 8/10\n",
      "60000/60000 [==============================] - 52s 863us/step - loss: 0.0021 - acc: 0.9878\n",
      "Epoch 9/10\n",
      "60000/60000 [==============================] - 50s 839us/step - loss: 0.0018 - acc: 0.9899\n",
      "Epoch 10/10\n",
      "60000/60000 [==============================] - 53s 884us/step - loss: 0.0017 - acc: 0.9906\n"
     ]
    }
   ],
   "source": [
    "model_fit = model.fit(x_train, y_train, batch_size=300, epochs = 10) # kernal"
   ]
  },
  {
   "cell_type": "code",
   "execution_count": 9,
   "metadata": {},
   "outputs": [
    {
     "name": "stdout",
     "output_type": "stream",
     "text": [
      "60000/60000 [==============================] - 18s 294us/step\n",
      "10000/10000 [==============================] - 3s 287us/step\n",
      "train_loss: 0.001603947252733633 train_accuracy: 0.9908833420276641\n",
      "test_loss: 0.0022185858816374093 test_accuracy: 0.9864000129699707\n"
     ]
    }
   ],
   "source": [
    "score_train = model.evaluate(x_train, y_train, batch_size=400)\n",
    "score_test = model.evaluate(x_test, y_test, batch_size=400)\n",
    "print('train_loss:',score_train[0],'train_accuracy:',score_train[1] )\n",
    "print('test_loss:',score_test[0],'test_accuracy:',score_test[1] )"
   ]
  },
  {
   "cell_type": "code",
   "execution_count": 10,
   "metadata": {},
   "outputs": [
    {
     "data": {
      "text/plain": [
       "<function matplotlib.pyplot.show(*args, **kw)>"
      ]
     },
     "execution_count": 10,
     "metadata": {},
     "output_type": "execute_result"
    },
    {
     "data": {
      "image/png": "[encoded data removed]",
      "text/plain": [
       "<Figure size 432x288 with 1 Axes>"
      ]
     },
     "metadata": {
      "needs_background": "light"
     },
     "output_type": "display_data"
    }
   ],
   "source": [
    "plt.plot(model_fit.history['acc'])\n",
    "plt.title('model accuracy')\n",
    "plt.ylabel('accuracy')\n",
    "plt.xlabel('epoch')\n",
    "plt.legend([\"accuracy\"],loc = \"best\")\n",
    "plt.show"
   ]
  },
  {
   "cell_type": "code",
   "execution_count": null,
   "metadata": {},
   "outputs": [],
   "source": []
  }
 ],
 "metadata": {
  "kernelspec": {
   "display_name": "Python 3",
   "language": "python",
   "name": "python3"
  },
  "language_info": {
   "codemirror_mode": {
    "name": "ipython",
    "version": 3
   },
   "file_extension": ".py",
   "mimetype": "text/x-python",
   "name": "python",
   "nbconvert_exporter": "python",
   "pygments_lexer": "ipython3",
   "version": "3.6.8"
  }
 },
 "nbformat": 4,
 "nbformat_minor": 2
}
